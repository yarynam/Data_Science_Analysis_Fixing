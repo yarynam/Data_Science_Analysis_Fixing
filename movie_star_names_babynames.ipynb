{
 "cells": [
  {
   "cell_type": "code",
   "execution_count": 316,
   "metadata": {
    "collapsed": false
   },
   "outputs": [],
   "source": [
    "import sys\n",
    "from bs4 import BeautifulSoup\n",
    "import requests\n",
    "import pandas as pd\n",
    "import numpy as np\n",
    "import matplotlib.pyplot as plt\n",
    "import matplotlib\n",
    "%matplotlib inline\n",
    "matplotlib.pylab.rcParams['figure.figsize'] = (10, 6)\n",
    "import urllib3 as url"
   ]
  },
  {
   "cell_type": "code",
   "execution_count": 315,
   "metadata": {
    "collapsed": false
   },
   "outputs": [],
   "source": [
    "sys.path.insert(0, '/home/skaf48/.local/lib/python3.4/site-packages')"
   ]
  },
  {
   "cell_type": "code",
   "execution_count": 241,
   "metadata": {
    "collapsed": true
   },
   "outputs": [],
   "source": [
    "def theurl(name):\n",
    "    answer={\"2000\":\"https://www.ssa.gov/oact/babynames/decades/names2000s.html\", \n",
    "            \"1990\":\"https://www.ssa.gov/oact/babynames/decades/names1990s.html\", \n",
    "            \"1980\":\"https://www.ssa.gov/oact/babynames/decades/names1980s.html\", \n",
    "            \"1970\":\"https://www.ssa.gov/oact/babynames/decades/names1970s.html\", \n",
    "            \"1960\":\"https://www.ssa.gov/oact/babynames/decades/names1960s.html\", \n",
    "            \"1950\":\"https://www.ssa.gov/oact/babynames/decades/names1950s.html\", \n",
    "            \"1940\":\"https://www.ssa.gov/oact/babynames/decades/names1940s.html\", \n",
    "            \"1930\":\"https://www.ssa.gov/oact/babynames/decades/names1930s.html\", \n",
    "            \"1920\":\"https://www.ssa.gov/oact/babynames/decades/names1920s.html\", \n",
    "            \"1910\":\"https://www.ssa.gov/oact/babynames/decades/names1910s.html\", \n",
    "            \"1900\":\"https://www.ssa.gov/oact/babynames/decades/names1900s.html\", \n",
    "            \"1890\":\"https://www.ssa.gov/oact/babynames/decades/names1890s.html\", \n",
    "            \"1880\":\"https://www.ssa.gov/oact/babynames/decades/names1880s.html\",\n",
    "            \"century\":\"https://www.ssa.gov/oact/babynames/decades/century.html\",\n",
    "            \"14\":\"https://www.ssa.gov/cgi-bin/popularnames.cgi\"\n",
    "            }\n",
    "    return answer[name]"
   ]
  },
  {
   "cell_type": "code",
   "execution_count": 97,
   "metadata": {
    "collapsed": false
   },
   "outputs": [
    {
     "data": {
      "text/plain": [
       "'https://www.ssa.gov/oact/babynames/decades/names2000s.html'"
      ]
     },
     "execution_count": 97,
     "metadata": {},
     "output_type": "execute_result"
    }
   ],
   "source": [
    "theurl(\"2000\")"
   ]
  },
  {
   "cell_type": "code",
   "execution_count": 131,
   "metadata": {
    "collapsed": true
   },
   "outputs": [],
   "source": [
    "def make_soup(url):\n",
    "    response=requests.get(url)\n",
    "    soup=BeautifulSoup(response.content,\"lxml\")\n",
    "    return soup"
   ]
  },
  {
   "cell_type": "code",
   "execution_count": 132,
   "metadata": {
    "collapsed": false
   },
   "outputs": [],
   "source": [
    "this=make_soup(theurl(\"2000\"))"
   ]
  },
  {
   "cell_type": "code",
   "execution_count": 99,
   "metadata": {
    "collapsed": false
   },
   "outputs": [
    {
     "data": {
      "text/plain": [
       "<title>Top names of the 2000s</title>"
      ]
     },
     "execution_count": 99,
     "metadata": {},
     "output_type": "execute_result"
    }
   ],
   "source": [
    "this.title"
   ]
  },
  {
   "cell_type": "code",
   "execution_count": 284,
   "metadata": {
    "collapsed": false
   },
   "outputs": [],
   "source": [
    "def popular_names(year):\n",
    "    this=make_soup(theurl(year))\n",
    "    \n",
    "    # find all tables then specifiy which table\n",
    "    tables = this.findChildren('table')\n",
    "    table = tables[1]\n",
    "    \n",
    "    # extract the data\n",
    "    data   = [[td.text for td in row.select('td')]\n",
    "             for row in table.findAll('tr')]\n",
    "    data=data[2:len(data)-1]\n",
    "    \n",
    "    # create the headers\n",
    "    headers = ['Rank', 'Boy_name', 'Number_of_boys', 'Girl_name', 'Number_of_girls']\n",
    "    \n",
    "    # find the body of the data and zip it together\n",
    "    #final=[]\n",
    "    #final.append(headers)\n",
    "    #final.append(data)\n",
    "    cols   =  zip(*data)\n",
    "    \n",
    "    tbl_d  = {name:col for name, col in zip(headers,cols)}\n",
    "    #print(tbl_d)\n",
    "    # create a dataframe from the html and trim the first column off\n",
    "    df = pd.DataFrame(tbl_d)\n",
    "    return df"
   ]
  },
  {
   "cell_type": "code",
   "execution_count": 362,
   "metadata": {
    "collapsed": false
   },
   "outputs": [
    {
     "data": {
      "text/html": [
       "<div>\n",
       "<table border=\"1\" class=\"dataframe\">\n",
       "  <thead>\n",
       "    <tr style=\"text-align: right;\">\n",
       "      <th></th>\n",
       "      <th>Boy_name</th>\n",
       "      <th>Girl_name</th>\n",
       "      <th>Number_of_boys</th>\n",
       "      <th>Number_of_girls</th>\n",
       "      <th>Rank</th>\n",
       "    </tr>\n",
       "  </thead>\n",
       "  <tbody>\n",
       "    <tr>\n",
       "      <th>2</th>\n",
       "      <td>Joshua</td>\n",
       "      <td>Emma</td>\n",
       "      <td>231,771</td>\n",
       "      <td>181,156</td>\n",
       "      <td>3</td>\n",
       "    </tr>\n",
       "  </tbody>\n",
       "</table>\n",
       "</div>"
      ],
      "text/plain": [
       "  Boy_name Girl_name Number_of_boys Number_of_girls Rank\n",
       "2   Joshua      Emma        231,771         181,156    3"
      ]
     },
     "execution_count": 362,
     "metadata": {},
     "output_type": "execute_result"
    }
   ],
   "source": [
    "names_2000=popular_names(\"2000\")\n",
    "names_1990=popular_names(\"1990\")\n",
    "names_1980=popular_names(\"1980\")\n",
    "names_1970=popular_names(\"1970\")\n",
    "names_1960=popular_names(\"1960\")\n",
    "names_1950=popular_names(\"1950\")\n",
    "names_1940=popular_names(\"1940\")\n",
    "names_1930=popular_names(\"1930\")\n",
    "names_1920=popular_names(\"1920\")\n",
    "names_1910=popular_names(\"1910\")\n",
    "names_1900=popular_names(\"1900\")\n",
    "names_1890=popular_names(\"1890\")\n",
    "names_1880=popular_names(\"1880\")\n",
    "names_2000[1:4]"
   ]
  },
  {
   "cell_type": "markdown",
   "metadata": {
    "collapsed": false
   },
   "source": [
    "EXtracting babay names for each year 2000 to 2014"
   ]
  },
  {
   "cell_type": "code",
   "execution_count": 303,
   "metadata": {
    "collapsed": true
   },
   "outputs": [],
   "source": [
    "def scrape_local(param):\n",
    "    #http = urllib3.PoolManager()\n",
    "    #link = \"/home/skaf48/webpages/2014.html\"\n",
    "    #r = http.request('GET', link)\n",
    "    #page = url.urlopen(link)\n",
    "    #url = r\"/home/skaf48/webpages/2014.html\"\n",
    "    #page = urllib3.urlopen(url)\n",
    "    soup = BeautifulSoup(open(param),\"lxml\")\n",
    "    #soup = BeautifulSoup(response.read())\n",
    "    return soup"
   ]
  },
  {
   "cell_type": "code",
   "execution_count": 388,
   "metadata": {
    "collapsed": false
   },
   "outputs": [],
   "source": [
    "def each_year(param):\n",
    "    this=scrape_local(\"/home/skaf48/web pages/\"+str(param)+\".html\")\n",
    "    tables = this.findChildren('table')\n",
    "    table = tables[1]\n",
    "    \n",
    "    # extract the data\n",
    "    data   = [[td.text for td in row.select('td')]\n",
    "             for row in table.findAll('tr')]\n",
    "    data=data[2:len(data)-1]\n",
    "    \n",
    "    # create the headers\n",
    "    headers = ['Rank', 'Male_name', 'Number_of_total_males', 'Female_name', 'Number_of_total_females']\n",
    "    \n",
    "    # find the body of the data and zip it together\n",
    "    #final=[]\n",
    "    #final.append(headers)\n",
    "    #final.append(data)\n",
    "    cols   =  zip(*data)\n",
    "    \n",
    "    tbl_d  = {name:col for name, col in zip(headers,cols)}\n",
    "    tbl_d['Year']=param\n",
    "    #print(tbl_d)\n",
    "    # create a dataframe from the html and trim the first column off\n",
    "    df = pd.DataFrame(tbl_d)\n",
    "    return df"
   ]
  },
  {
   "cell_type": "code",
   "execution_count": 749,
   "metadata": {
    "collapsed": false
   },
   "outputs": [
    {
     "data": {
      "text/html": [
       "<div>\n",
       "<table border=\"1\" class=\"dataframe\">\n",
       "  <thead>\n",
       "    <tr style=\"text-align: right;\">\n",
       "      <th></th>\n",
       "      <th>Female_name</th>\n",
       "      <th>Male_name</th>\n",
       "      <th>Number_of_total_females</th>\n",
       "      <th>Number_of_total_males</th>\n",
       "      <th>Rank</th>\n",
       "      <th>Year</th>\n",
       "    </tr>\n",
       "  </thead>\n",
       "  <tbody>\n",
       "    <tr>\n",
       "      <th>0</th>\n",
       "      <td>Emily</td>\n",
       "      <td>Jacob</td>\n",
       "      <td>26,537</td>\n",
       "      <td>35,344</td>\n",
       "      <td>1</td>\n",
       "      <td>1999</td>\n",
       "    </tr>\n",
       "    <tr>\n",
       "      <th>1</th>\n",
       "      <td>Hannah</td>\n",
       "      <td>Michael</td>\n",
       "      <td>21,667</td>\n",
       "      <td>33,905</td>\n",
       "      <td>2</td>\n",
       "      <td>1999</td>\n",
       "    </tr>\n",
       "    <tr>\n",
       "      <th>2</th>\n",
       "      <td>Alexis</td>\n",
       "      <td>Matthew</td>\n",
       "      <td>19,232</td>\n",
       "      <td>30,414</td>\n",
       "      <td>3</td>\n",
       "      <td>1999</td>\n",
       "    </tr>\n",
       "    <tr>\n",
       "      <th>3</th>\n",
       "      <td>Sarah</td>\n",
       "      <td>Joshua</td>\n",
       "      <td>19,084</td>\n",
       "      <td>27,251</td>\n",
       "      <td>4</td>\n",
       "      <td>1999</td>\n",
       "    </tr>\n",
       "    <tr>\n",
       "      <th>4</th>\n",
       "      <td>Samantha</td>\n",
       "      <td>Nicholas</td>\n",
       "      <td>19,033</td>\n",
       "      <td>25,635</td>\n",
       "      <td>5</td>\n",
       "      <td>1999</td>\n",
       "    </tr>\n",
       "  </tbody>\n",
       "</table>\n",
       "</div>"
      ],
      "text/plain": [
       "  Female_name Male_name Number_of_total_females Number_of_total_males Rank  \\\n",
       "0       Emily     Jacob                  26,537                35,344    1   \n",
       "1      Hannah   Michael                  21,667                33,905    2   \n",
       "2      Alexis   Matthew                  19,232                30,414    3   \n",
       "3       Sarah    Joshua                  19,084                27,251    4   \n",
       "4    Samantha  Nicholas                  19,033                25,635    5   \n",
       "\n",
       "   Year  \n",
       "0  1999  \n",
       "1  1999  \n",
       "2  1999  \n",
       "3  1999  \n",
       "4  1999  "
      ]
     },
     "execution_count": 749,
     "metadata": {},
     "output_type": "execute_result"
    }
   ],
   "source": [
    "fourteen = each_year(2014)\n",
    "thirteen = each_year(2013)\n",
    "twelve = each_year(2012)\n",
    "eleven = each_year(2011)\n",
    "ten = each_year(2010)\n",
    "nine = each_year(2009)\n",
    "eight = each_year(2008)\n",
    "seven = each_year(2007)\n",
    "six = each_year(2006)\n",
    "five = each_year(2005)\n",
    "four = each_year(2004)\n",
    "three = each_year(2003)\n",
    "two = each_year(2002)\n",
    "one = each_year(2001)\n",
    "millenium = each_year(2000)\n",
    "ninety_nine = each_year(1999)\n",
    "ninety_eight = each_year(1998)\n",
    "ninety_seven = each_year(1997)\n",
    "ninety_six = each_year(1996)\n",
    "ninety_five = each_year(1995)\n",
    "ninety_four = each_year(1994)\n",
    "ninety_three = each_year(1993)\n",
    "ninety_two = each_year(1992)\n",
    "ninety_one = each_year(1991)\n",
    "ninety = each_year(1990)\n",
    "\n",
    "ninety_nine.head()"
   ]
  },
  {
   "cell_type": "code",
   "execution_count": 726,
   "metadata": {
    "collapsed": false
   },
   "outputs": [
    {
     "data": {
      "text/html": [
       "<div>\n",
       "<table border=\"1\" class=\"dataframe\">\n",
       "  <thead>\n",
       "    <tr style=\"text-align: right;\">\n",
       "      <th></th>\n",
       "      <th>Female_name</th>\n",
       "      <th>Male_name</th>\n",
       "      <th>Number_of_total_females</th>\n",
       "      <th>Number_of_total_males</th>\n",
       "      <th>Rank</th>\n",
       "      <th>Year</th>\n",
       "    </tr>\n",
       "  </thead>\n",
       "  <tbody>\n",
       "    <tr>\n",
       "      <th>995</th>\n",
       "      <td>Tiarra</td>\n",
       "      <td>Laurence</td>\n",
       "      <td>189</td>\n",
       "      <td>125</td>\n",
       "      <td>996</td>\n",
       "      <td>1995</td>\n",
       "    </tr>\n",
       "    <tr>\n",
       "      <th>996</th>\n",
       "      <td>Astrid</td>\n",
       "      <td>Mateo</td>\n",
       "      <td>188</td>\n",
       "      <td>125</td>\n",
       "      <td>997</td>\n",
       "      <td>1995</td>\n",
       "    </tr>\n",
       "    <tr>\n",
       "      <th>997</th>\n",
       "      <td>Danyelle</td>\n",
       "      <td>Hudson</td>\n",
       "      <td>188</td>\n",
       "      <td>124</td>\n",
       "      <td>998</td>\n",
       "      <td>1995</td>\n",
       "    </tr>\n",
       "    <tr>\n",
       "      <th>998</th>\n",
       "      <td>Lourdes</td>\n",
       "      <td>Dejuan</td>\n",
       "      <td>188</td>\n",
       "      <td>123</td>\n",
       "      <td>999</td>\n",
       "      <td>1995</td>\n",
       "    </tr>\n",
       "    <tr>\n",
       "      <th>999</th>\n",
       "      <td>Mari</td>\n",
       "      <td>Desean</td>\n",
       "      <td>188</td>\n",
       "      <td>123</td>\n",
       "      <td>1000</td>\n",
       "      <td>1995</td>\n",
       "    </tr>\n",
       "  </tbody>\n",
       "</table>\n",
       "</div>"
      ],
      "text/plain": [
       "    Female_name Male_name Number_of_total_females Number_of_total_males  Rank  \\\n",
       "995      Tiarra  Laurence                     189                   125   996   \n",
       "996      Astrid     Mateo                     188                   125   997   \n",
       "997    Danyelle    Hudson                     188                   124   998   \n",
       "998     Lourdes    Dejuan                     188                   123   999   \n",
       "999        Mari    Desean                     188                   123  1000   \n",
       "\n",
       "     Year  \n",
       "995  1995  \n",
       "996  1995  \n",
       "997  1995  \n",
       "998  1995  \n",
       "999  1995  "
      ]
     },
     "execution_count": 726,
     "metadata": {},
     "output_type": "execute_result"
    }
   ],
   "source": [
    "df=[fourteen,thirteen,twelve,eleven,ten,nine,eight,seven,six,five,four,three,two,one,millenium,ninety_nine,ninety_eight,ninety_seven,ninety_six,ninety_five] #ninety_four,ninety_three,ninety_two,ninety_one,ninety\n",
    "final_eachyear_names = pd.concat(df)\n",
    "final_eachyear_names.tail()"
   ]
  },
  {
   "cell_type": "markdown",
   "metadata": {
    "collapsed": false
   },
   "source": [
    "Get the total births in US for each year from http://wonder.cdc.gov/controller/datarequest/D66;jsessionid=A3F342614F04051CC02ADAFD2F274EA6"
   ]
  },
  {
   "cell_type": "code",
   "execution_count": 707,
   "metadata": {
    "collapsed": false
   },
   "outputs": [],
   "source": [
    "d = {'Year' : pd.Series([2014,2013,2012,2011,2010,2009,2008,2007,2006,2005,2004,2003,2002,2001,2000,1999,1998,1997,1996,1995],\n",
    "                        index=['1','2','3','4','5','6','7','8','9','10','11','12','13','14','15','16','17','18','19','20']), \n",
    "     'male_births' : pd.Series([2040701,2012954,2021434,2024052,2046935,2113856,2173389,2208071,2184237,\n",
    "                                2118982,2104661,2093535,2057979,2057922,2076969,2026854,2016205,1985596,1990480,1996355],\n",
    "                               index=['1', '2', '3','4','5','6','7','8','9','10','11','12','13','14','15','16','17','18','19','20']), \n",
    "     'female_births':pd.Series([1947375,1919227,1931407,1929538,1952451,2016809,2074305,2108162,2081318,\n",
    "                                2019367,2007391,1996415,1963747,1968011,1981845,1932563,1925348,1895298,1901014,1903234],\n",
    "                               index=['1', '2', '3','4','5','6','7','8','9','10','11','12','13','14','15','16','17','18','19','20']), \n",
    "     'total_births':pd.Series([3988076,3932181,3952841,3953590,3999386,4130665,4247694,4316233,4265555,\n",
    "                               4138349,4112052,4089950,4021726,4025933,4058814,3959417,3941553,3880894,3891494,3899589],\n",
    "                              index=['1', '2', '3','4','5','6','7','8','9','10','11','12','13','14','15','16','17','18','19','20'])\n",
    "    }"
   ]
  },
  {
   "cell_type": "code",
   "execution_count": 708,
   "metadata": {
    "collapsed": false
   },
   "outputs": [
    {
     "data": {
      "text/html": [
       "<div>\n",
       "<table border=\"1\" class=\"dataframe\">\n",
       "  <thead>\n",
       "    <tr style=\"text-align: right;\">\n",
       "      <th></th>\n",
       "      <th>Year</th>\n",
       "      <th>female_births</th>\n",
       "      <th>male_births</th>\n",
       "      <th>total_births</th>\n",
       "    </tr>\n",
       "  </thead>\n",
       "  <tbody>\n",
       "    <tr>\n",
       "      <th>1</th>\n",
       "      <td>2014</td>\n",
       "      <td>1947375</td>\n",
       "      <td>2040701</td>\n",
       "      <td>3988076</td>\n",
       "    </tr>\n",
       "    <tr>\n",
       "      <th>2</th>\n",
       "      <td>2013</td>\n",
       "      <td>1919227</td>\n",
       "      <td>2012954</td>\n",
       "      <td>3932181</td>\n",
       "    </tr>\n",
       "    <tr>\n",
       "      <th>3</th>\n",
       "      <td>2012</td>\n",
       "      <td>1931407</td>\n",
       "      <td>2021434</td>\n",
       "      <td>3952841</td>\n",
       "    </tr>\n",
       "    <tr>\n",
       "      <th>4</th>\n",
       "      <td>2011</td>\n",
       "      <td>1929538</td>\n",
       "      <td>2024052</td>\n",
       "      <td>3953590</td>\n",
       "    </tr>\n",
       "    <tr>\n",
       "      <th>5</th>\n",
       "      <td>2010</td>\n",
       "      <td>1952451</td>\n",
       "      <td>2046935</td>\n",
       "      <td>3999386</td>\n",
       "    </tr>\n",
       "    <tr>\n",
       "      <th>6</th>\n",
       "      <td>2009</td>\n",
       "      <td>2016809</td>\n",
       "      <td>2113856</td>\n",
       "      <td>4130665</td>\n",
       "    </tr>\n",
       "    <tr>\n",
       "      <th>7</th>\n",
       "      <td>2008</td>\n",
       "      <td>2074305</td>\n",
       "      <td>2173389</td>\n",
       "      <td>4247694</td>\n",
       "    </tr>\n",
       "    <tr>\n",
       "      <th>8</th>\n",
       "      <td>2007</td>\n",
       "      <td>2108162</td>\n",
       "      <td>2208071</td>\n",
       "      <td>4316233</td>\n",
       "    </tr>\n",
       "    <tr>\n",
       "      <th>9</th>\n",
       "      <td>2006</td>\n",
       "      <td>2081318</td>\n",
       "      <td>2184237</td>\n",
       "      <td>4265555</td>\n",
       "    </tr>\n",
       "    <tr>\n",
       "      <th>10</th>\n",
       "      <td>2005</td>\n",
       "      <td>2019367</td>\n",
       "      <td>2118982</td>\n",
       "      <td>4138349</td>\n",
       "    </tr>\n",
       "    <tr>\n",
       "      <th>11</th>\n",
       "      <td>2004</td>\n",
       "      <td>2007391</td>\n",
       "      <td>2104661</td>\n",
       "      <td>4112052</td>\n",
       "    </tr>\n",
       "    <tr>\n",
       "      <th>12</th>\n",
       "      <td>2003</td>\n",
       "      <td>1996415</td>\n",
       "      <td>2093535</td>\n",
       "      <td>4089950</td>\n",
       "    </tr>\n",
       "    <tr>\n",
       "      <th>13</th>\n",
       "      <td>2002</td>\n",
       "      <td>1963747</td>\n",
       "      <td>2057979</td>\n",
       "      <td>4021726</td>\n",
       "    </tr>\n",
       "    <tr>\n",
       "      <th>14</th>\n",
       "      <td>2001</td>\n",
       "      <td>1968011</td>\n",
       "      <td>2057922</td>\n",
       "      <td>4025933</td>\n",
       "    </tr>\n",
       "    <tr>\n",
       "      <th>15</th>\n",
       "      <td>2000</td>\n",
       "      <td>1981845</td>\n",
       "      <td>2076969</td>\n",
       "      <td>4058814</td>\n",
       "    </tr>\n",
       "    <tr>\n",
       "      <th>16</th>\n",
       "      <td>1999</td>\n",
       "      <td>1932563</td>\n",
       "      <td>2026854</td>\n",
       "      <td>3959417</td>\n",
       "    </tr>\n",
       "    <tr>\n",
       "      <th>17</th>\n",
       "      <td>1998</td>\n",
       "      <td>1925348</td>\n",
       "      <td>2016205</td>\n",
       "      <td>3941553</td>\n",
       "    </tr>\n",
       "    <tr>\n",
       "      <th>18</th>\n",
       "      <td>1997</td>\n",
       "      <td>1895298</td>\n",
       "      <td>1985596</td>\n",
       "      <td>3880894</td>\n",
       "    </tr>\n",
       "    <tr>\n",
       "      <th>19</th>\n",
       "      <td>1996</td>\n",
       "      <td>1901014</td>\n",
       "      <td>1990480</td>\n",
       "      <td>3891494</td>\n",
       "    </tr>\n",
       "    <tr>\n",
       "      <th>20</th>\n",
       "      <td>1995</td>\n",
       "      <td>1903234</td>\n",
       "      <td>1996355</td>\n",
       "      <td>3899589</td>\n",
       "    </tr>\n",
       "  </tbody>\n",
       "</table>\n",
       "</div>"
      ],
      "text/plain": [
       "    Year  female_births  male_births  total_births\n",
       "1   2014        1947375      2040701       3988076\n",
       "2   2013        1919227      2012954       3932181\n",
       "3   2012        1931407      2021434       3952841\n",
       "4   2011        1929538      2024052       3953590\n",
       "5   2010        1952451      2046935       3999386\n",
       "6   2009        2016809      2113856       4130665\n",
       "7   2008        2074305      2173389       4247694\n",
       "8   2007        2108162      2208071       4316233\n",
       "9   2006        2081318      2184237       4265555\n",
       "10  2005        2019367      2118982       4138349\n",
       "11  2004        2007391      2104661       4112052\n",
       "12  2003        1996415      2093535       4089950\n",
       "13  2002        1963747      2057979       4021726\n",
       "14  2001        1968011      2057922       4025933\n",
       "15  2000        1981845      2076969       4058814\n",
       "16  1999        1932563      2026854       3959417\n",
       "17  1998        1925348      2016205       3941553\n",
       "18  1997        1895298      1985596       3880894\n",
       "19  1996        1901014      1990480       3891494\n",
       "20  1995        1903234      1996355       3899589"
      ]
     },
     "execution_count": 708,
     "metadata": {},
     "output_type": "execute_result"
    }
   ],
   "source": [
    "birth_totals = pd.DataFrame(d)\n",
    "birth_totals"
   ]
  },
  {
   "cell_type": "code",
   "execution_count": 425,
   "metadata": {
    "collapsed": true
   },
   "outputs": [],
   "source": [
    "def ret_total_male_births(year):\n",
    "    return birth_totals['male_births'][birth_totals['Year']==year]   "
   ]
  },
  {
   "cell_type": "code",
   "execution_count": 427,
   "metadata": {
    "collapsed": false
   },
   "outputs": [],
   "source": [
    "def ret_total_female_births(year):\n",
    "    return birth_totals['female_births'][birth_totals['Year']==year]"
   ]
  },
  {
   "cell_type": "code",
   "execution_count": 431,
   "metadata": {
    "collapsed": false
   },
   "outputs": [
    {
     "data": {
      "text/plain": [
       "'/home/skaf48'"
      ]
     },
     "execution_count": 431,
     "metadata": {},
     "output_type": "execute_result"
    }
   ],
   "source": [
    "ret_total_female_births(2014)"
   ]
  },
  {
   "cell_type": "code",
   "execution_count": 739,
   "metadata": {
    "collapsed": false
   },
   "outputs": [],
   "source": [
    "movie_df = pd.read_csv('babynames/data/movie_data_final.csv', encoding='latin-1')\n",
    "bb_names_df = pd.read_csv('babynames/data/NationalNames.csv')"
   ]
  },
  {
   "cell_type": "code",
   "execution_count": 740,
   "metadata": {
    "collapsed": false
   },
   "outputs": [
    {
     "data": {
      "text/plain": [
       "array([1937, 1939, 1940, 1942, 1945, 1946, 1950, 1952, 1953, 1955, 1956,\n",
       "       1957, 1959, 1960, 1961, 1962, 1963, 1964, 1965, 1967, 1969, 1970,\n",
       "       1972, 1973, 1974, 1975, 1976, 1977, 1978, 1980, 1981, 1982, 1983,\n",
       "       1984, 1985, 1989, 1990, 1992, 1993, 1994, 1996, 1997, 1999, 2001,\n",
       "       2002, 2003, 2004, 2005, 2006, 2008, 2009, 2010, 2012, 2013, 2015])"
      ]
     },
     "execution_count": 740,
     "metadata": {},
     "output_type": "execute_result"
    }
   ],
   "source": [
    "year_list = np.sort(movie_df.Year.unique()).astype(np.int)\n",
    "year_list"
   ]
  },
  {
   "cell_type": "markdown",
   "metadata": {},
   "source": [
    "## What's the influence of cast or characters's names in popular movies on baby's name after the movie has been released?"
   ]
  },
  {
   "cell_type": "code",
   "execution_count": 718,
   "metadata": {
    "collapsed": true
   },
   "outputs": [],
   "source": [
    "def plot_names_by_year(year):\n",
    "    lower_limit = year - 10 if year - 10 >= 1937 else year \n",
    "# based on character name\n",
    "    character_list = movie_df[movie_df['Year'] == year].Character_Name.unique()\n",
    "    bb_names_character = bb_names_df[(bb_names_df['Name'].isin(character_list))&(bb_names_df['Gender']==('M'or'F'))&((bb_names_df['Year']>lower_limit))] \n",
    "    bb_names_character.pivot(index='Year', columns='Name', values='Count').plot().axvline(year, color='r')\n",
    "# based on cast name\n",
    "#     cast_list = movie_df[movie_df['Year'] == year].Cast_Name.unique()\n",
    "#     bb_names_cast = bb_names_df[(bb_names_df['Name'].isin(cast_list))&(bb_names_df['Gender']==('M'or'F'))] \n",
    "#     bb_names_cast.pivot(index='Year', columns='Name', values='Count').plot()"
   ]
  },
  {
   "cell_type": "code",
   "execution_count": 719,
   "metadata": {
    "collapsed": false
   },
   "outputs": [
    {
     "data": {
      "image/png": "[encoded data removed]",
      "text/plain": [
       "<matplotlib.figure.Figure at 0x7fb45ee91b00>"
      ]
     },
     "metadata": {},
     "output_type": "display_data"
    }
   ],
   "source": [
    "plot_names_by_year(2001)"
   ]
  },
  {
   "cell_type": "code",
   "execution_count": 758,
   "metadata": {
    "collapsed": false
   },
   "outputs": [],
   "source": [
    "def plot_names_by_movie(title):\n",
    "    year = movie_df[movie_df['Title']==title].Year.unique()[0]\n",
    "    lower_limit = year - 5 if year - 5 >= 1937 else year \n",
    "# based on character name\n",
    "    character_list = movie_df[movie_df['Title']=='Titanic'].Character_Name.unique()\n",
    "    bb_names_character = bb_names_df[(bb_names_df['Name'].isin(character_list))&(bb_names_df['Gender']==('M'or'F'))&((bb_names_df['Year']>lower_limit))] #[['Name','Year','Gender','Count']]\n",
    "    bb_names_character.pivot(index='Year', columns='Name', values='Count').plot(title=title+', '+str(year),fontsize=20).axvline(year, color='r')\n",
    "#     popularity={'name': pd.Series([]),'popularity': pd.Series([])}\n",
    "#     for i in range(year-5,year+5):\n",
    "#         names_tobe_analyzed = final_eachyear_names[(final_eachyear_names['Male_name'].isin(character_list)) &((final_eachyear_names['Year']>(year-5)))] #[['Name','Year','Gender','Count']]\n",
    "#         for name in names_tobe_analyzed:\n",
    "#             #if(final_eachyear_names['Male_name']==name & final_eachyear_names['Year']==i):\n",
    "#             popularity['name']=name\n",
    "#             popularity['popularity']=popularity_malename(name)\n",
    "#     print(popularity)\n",
    "     \n",
    "\n",
    "    # based on cast name\n",
    "#     cast_list = movie_df[movie_df['Title']==title].Cast_Name.unique()\n",
    "#     bb_names_cast = bb_names_df[(bb_names_df['Name'].isin(cast_list))&(bb_names_df['Gender']==('M'or'F'))&((bb_names_df['Year']>lower_limit))] #[['Name','Year','Gender','Count']]\n",
    "#     bb_names_cast.pivot(index='Year', columns='Name', values='Count').plot()"
   ]
  },
  {
   "cell_type": "code",
   "execution_count": 759,
   "metadata": {
    "collapsed": false
   },
   "outputs": [
    {
     "data": {
      "image/png": "[encoded data removed]",
      "text/plain": [
       "<matplotlib.figure.Figure at 0x7fb45da2aba8>"
      ]
     },
     "metadata": {},
     "output_type": "display_data"
    }
   ],
   "source": [
    "plot_names_by_movie('Titanic')\n",
    "\n",
    "#final_eachyear_names['Male_name']=='Noah'\n",
    "#final_eachyear_names['Year']==2014\n",
    "# year=1997\n",
    "# character_list = movie_df[movie_df['Title']=='Titanic'].Character_Name.unique()\n",
    "# names_tobe_analyzed = final_eachyear_names[(final_eachyear_names['Male_name'].isin(character_list)) &((final_eachyear_names['Year']>(year-5)))] #[['Name','Year','Gender','Count']]\n",
    "# print(names_tobe_analyzed)"
   ]
  },
  {
   "cell_type": "markdown",
   "metadata": {},
   "source": [
    "calculate the popularity of each name for an year using total birth names for a name over total number of births"
   ]
  },
  {
   "cell_type": "code",
   "execution_count": 761,
   "metadata": {
    "collapsed": false
   },
   "outputs": [],
   "source": [
    "#names_tobe_analyzed = final_eachyear_names[(final_eachyear_names['Male_name'].isin(character_list)) &((final_eachyear_names['Year']>(year-5)))]\n",
    "#names_tobe_analyzed\n",
    "from fastnumbers import fast_real\n",
    "\n",
    "def popularity_malename(name):\n",
    "    num = final_eachyear_names['Number_of_total_males'][final_eachyear_names['Male_name']==name]\n",
    "    num=np.array(num)\n",
    "    a=np.empty([len(num)],dtype=int)\n",
    "    for i in range(0,len(num)):\n",
    "        a[i]=num[i].replace(\",\",'')\n",
    "    \n",
    "    years = final_eachyear_names['Year'][final_eachyear_names['Male_name']==name]\n",
    "    years=np.array(years)\n",
    "    pop=np.empty([len(num)])\n",
    "    for i in range(1,len(num)):\n",
    "        pop[i]=a[i]/ret_total_male_births(years[i])\n",
    "    return pop\n",
    "\n",
    "def popularity_femalename(year,name):\n",
    "    return final_eachyear_names['Number_of_total_females'][final_eachyear_names['Female_name']==name]/ret_total_female_births(year)"
   ]
  },
  {
   "cell_type": "code",
   "execution_count": 762,
   "metadata": {
    "collapsed": false
   },
   "outputs": [],
   "source": [
    "tmp=popularity_malename('Forrest')\n",
    "# num = final_eachyear_names['Number_of_total_males'][final_eachyear_names['Male_name']=='Jack']\n",
    "# num=np.array(num)\n",
    "# a=np.empty([len(num)],dtype=int)\n",
    "# for i in range(0,len(num)):\n",
    "#     a[i]=num[i].replace(\",\",'')\n",
    "# type(a)"
   ]
  }
 ],
 "metadata": {
  "kernelspec": {
   "display_name": "Python 3",
   "language": "python",
   "name": "python3"
  },
  "language_info": {
   "codemirror_mode": {
    "name": "ipython",
    "version": 3
   },
   "file_extension": ".py",
   "mimetype": "text/x-python",
   "name": "python",
   "nbconvert_exporter": "python",
   "pygments_lexer": "ipython3",
   "version": "3.4.3"
  }
 },
 "nbformat": 4,
 "nbformat_minor": 0
}
